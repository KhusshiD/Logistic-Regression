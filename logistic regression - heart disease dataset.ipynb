{
 "cells": [
  {
   "cell_type": "code",
   "execution_count": 150,
   "id": "aec7f9db",
   "metadata": {},
   "outputs": [],
   "source": [
    "import numpy as np\n",
    "import pandas as pd\n",
    "\n",
    "import matplotlib.pyplot as plt\n",
    "import seaborn as sns                      #to check non-linear relation\n",
    "import sklearn.linear_model as lm          #gives only linear line, no error \n",
    "import statsmodels.formula.api as smf      #gives all related to regression\n",
    "import statsmodels.api as sm\n",
    "from sklearn.preprocessing import scale \n",
    "\n",
    "from statsmodels.stats.outliers_influence import variance_inflation_factor\n",
    "from statsmodels.tools.tools import add_constant\n",
    "from sklearn.model_selection import train_test_split, LeaveOneOut, KFold, cross_val_score\n",
    "\n",
    "from sklearn.linear_model import Ridge\n",
    "from sklearn.linear_model import Lasso\n",
    "from sklearn.linear_model import RidgeCV, LassoCV\n",
    "from sklearn import metrics\n",
    "from sklearn.metrics import mean_squared_error"
   ]
  },
  {
   "cell_type": "code",
   "execution_count": 151,
   "id": "1dabcc23",
   "metadata": {},
   "outputs": [
    {
     "data": {
      "text/html": [
       "<div>\n",
       "<style scoped>\n",
       "    .dataframe tbody tr th:only-of-type {\n",
       "        vertical-align: middle;\n",
       "    }\n",
       "\n",
       "    .dataframe tbody tr th {\n",
       "        vertical-align: top;\n",
       "    }\n",
       "\n",
       "    .dataframe thead th {\n",
       "        text-align: right;\n",
       "    }\n",
       "</style>\n",
       "<table border=\"1\" class=\"dataframe\">\n",
       "  <thead>\n",
       "    <tr style=\"text-align: right;\">\n",
       "      <th></th>\n",
       "      <th>Age</th>\n",
       "      <th>Sex</th>\n",
       "      <th>ChestPain</th>\n",
       "      <th>RestBP</th>\n",
       "      <th>Chol</th>\n",
       "      <th>Fbs</th>\n",
       "      <th>RestECG</th>\n",
       "      <th>MaxHR</th>\n",
       "      <th>ExAng</th>\n",
       "      <th>Oldpeak</th>\n",
       "      <th>Slope</th>\n",
       "      <th>Ca</th>\n",
       "      <th>Thal</th>\n",
       "      <th>AHD</th>\n",
       "    </tr>\n",
       "  </thead>\n",
       "  <tbody>\n",
       "    <tr>\n",
       "      <th>0</th>\n",
       "      <td>63</td>\n",
       "      <td>1</td>\n",
       "      <td>typical</td>\n",
       "      <td>145</td>\n",
       "      <td>233</td>\n",
       "      <td>1</td>\n",
       "      <td>2</td>\n",
       "      <td>150</td>\n",
       "      <td>0</td>\n",
       "      <td>2.3</td>\n",
       "      <td>3</td>\n",
       "      <td>0.0</td>\n",
       "      <td>fixed</td>\n",
       "      <td>No</td>\n",
       "    </tr>\n",
       "    <tr>\n",
       "      <th>1</th>\n",
       "      <td>67</td>\n",
       "      <td>1</td>\n",
       "      <td>asymptomatic</td>\n",
       "      <td>160</td>\n",
       "      <td>286</td>\n",
       "      <td>0</td>\n",
       "      <td>2</td>\n",
       "      <td>108</td>\n",
       "      <td>1</td>\n",
       "      <td>1.5</td>\n",
       "      <td>2</td>\n",
       "      <td>3.0</td>\n",
       "      <td>normal</td>\n",
       "      <td>Yes</td>\n",
       "    </tr>\n",
       "  </tbody>\n",
       "</table>\n",
       "</div>"
      ],
      "text/plain": [
       "   Age  Sex     ChestPain  RestBP  Chol  Fbs  RestECG  MaxHR  ExAng  Oldpeak  \\\n",
       "0   63    1       typical     145   233    1        2    150      0      2.3   \n",
       "1   67    1  asymptomatic     160   286    0        2    108      1      1.5   \n",
       "\n",
       "   Slope   Ca    Thal  AHD  \n",
       "0      3  0.0   fixed   No  \n",
       "1      2  3.0  normal  Yes  "
      ]
     },
     "execution_count": 151,
     "metadata": {},
     "output_type": "execute_result"
    }
   ],
   "source": [
    "heart = pd.read_csv(\"C:/Users/Khusshi Dedhiaa/Desktop/SSDI/heart_disease dataset.csv\")\n",
    "heart2 = heart\n",
    "heart.head(2)"
   ]
  },
  {
   "cell_type": "code",
   "execution_count": 152,
   "id": "d1f167de",
   "metadata": {},
   "outputs": [
    {
     "data": {
      "text/plain": [
       "Age          0\n",
       "Sex          0\n",
       "ChestPain    0\n",
       "RestBP       0\n",
       "Chol         0\n",
       "Fbs          0\n",
       "RestECG      0\n",
       "MaxHR        0\n",
       "ExAng        0\n",
       "Oldpeak      0\n",
       "Slope        0\n",
       "Ca           4\n",
       "Thal         2\n",
       "AHD          0\n",
       "dtype: int64"
      ]
     },
     "execution_count": 152,
     "metadata": {},
     "output_type": "execute_result"
    }
   ],
   "source": [
    "heart.isna().sum()"
   ]
  },
  {
   "cell_type": "code",
   "execution_count": 153,
   "id": "b301839c",
   "metadata": {},
   "outputs": [
    {
     "name": "stdout",
     "output_type": "stream",
     "text": [
      "<class 'pandas.core.frame.DataFrame'>\n",
      "RangeIndex: 303 entries, 0 to 302\n",
      "Data columns (total 14 columns):\n",
      " #   Column     Non-Null Count  Dtype  \n",
      "---  ------     --------------  -----  \n",
      " 0   Age        303 non-null    int64  \n",
      " 1   Sex        303 non-null    int64  \n",
      " 2   ChestPain  303 non-null    object \n",
      " 3   RestBP     303 non-null    int64  \n",
      " 4   Chol       303 non-null    int64  \n",
      " 5   Fbs        303 non-null    int64  \n",
      " 6   RestECG    303 non-null    int64  \n",
      " 7   MaxHR      303 non-null    int64  \n",
      " 8   ExAng      303 non-null    int64  \n",
      " 9   Oldpeak    303 non-null    float64\n",
      " 10  Slope      303 non-null    int64  \n",
      " 11  Ca         299 non-null    float64\n",
      " 12  Thal       301 non-null    object \n",
      " 13  AHD        303 non-null    object \n",
      "dtypes: float64(2), int64(9), object(3)\n",
      "memory usage: 33.3+ KB\n"
     ]
    }
   ],
   "source": [
    "heart.info()"
   ]
  },
  {
   "cell_type": "markdown",
   "id": "1d8c9bba",
   "metadata": {},
   "source": [
    "### fill na"
   ]
  },
  {
   "cell_type": "code",
   "execution_count": 154,
   "id": "1c5e8c61",
   "metadata": {},
   "outputs": [
    {
     "data": {
      "text/plain": [
       "array([ 0.,  3.,  2.,  1., nan])"
      ]
     },
     "execution_count": 154,
     "metadata": {},
     "output_type": "execute_result"
    }
   ],
   "source": [
    "heart.Ca.unique()"
   ]
  },
  {
   "cell_type": "code",
   "execution_count": 155,
   "id": "39467ec8",
   "metadata": {},
   "outputs": [],
   "source": [
    "mode = heart.Ca.mode()[0]\n",
    "heart.Ca.fillna(mode, inplace=True)"
   ]
  },
  {
   "cell_type": "code",
   "execution_count": 156,
   "id": "c28c2083",
   "metadata": {},
   "outputs": [
    {
     "data": {
      "text/plain": [
       "array(['fixed', 'normal', 'reversable', nan], dtype=object)"
      ]
     },
     "execution_count": 156,
     "metadata": {},
     "output_type": "execute_result"
    }
   ],
   "source": [
    "heart.Thal.unique()"
   ]
  },
  {
   "cell_type": "code",
   "execution_count": 157,
   "id": "ac894369",
   "metadata": {},
   "outputs": [],
   "source": [
    "mode = heart.Thal.mode()[0]\n",
    "heart.Thal.fillna(mode, inplace=True)"
   ]
  },
  {
   "cell_type": "code",
   "execution_count": 158,
   "id": "0def68f3",
   "metadata": {},
   "outputs": [],
   "source": [
    "heart['Ca'] = heart.Ca.astype(object)"
   ]
  },
  {
   "cell_type": "code",
   "execution_count": 159,
   "id": "460f51f7",
   "metadata": {},
   "outputs": [
    {
     "data": {
      "text/plain": [
       "array([0.0, 3.0, 2.0, 1.0], dtype=object)"
      ]
     },
     "execution_count": 159,
     "metadata": {},
     "output_type": "execute_result"
    }
   ],
   "source": [
    "heart.Ca.unique()"
   ]
  },
  {
   "cell_type": "code",
   "execution_count": 160,
   "id": "ebd4f027",
   "metadata": {},
   "outputs": [
    {
     "name": "stdout",
     "output_type": "stream",
     "text": [
      "<class 'pandas.core.frame.DataFrame'>\n",
      "RangeIndex: 303 entries, 0 to 302\n",
      "Data columns (total 14 columns):\n",
      " #   Column     Non-Null Count  Dtype  \n",
      "---  ------     --------------  -----  \n",
      " 0   Age        303 non-null    int64  \n",
      " 1   Sex        303 non-null    int64  \n",
      " 2   ChestPain  303 non-null    object \n",
      " 3   RestBP     303 non-null    int64  \n",
      " 4   Chol       303 non-null    int64  \n",
      " 5   Fbs        303 non-null    int64  \n",
      " 6   RestECG    303 non-null    int64  \n",
      " 7   MaxHR      303 non-null    int64  \n",
      " 8   ExAng      303 non-null    int64  \n",
      " 9   Oldpeak    303 non-null    float64\n",
      " 10  Slope      303 non-null    int64  \n",
      " 11  Ca         303 non-null    object \n",
      " 12  Thal       303 non-null    object \n",
      " 13  AHD        303 non-null    object \n",
      "dtypes: float64(1), int64(9), object(4)\n",
      "memory usage: 33.3+ KB\n"
     ]
    }
   ],
   "source": [
    "heart.info()"
   ]
  },
  {
   "cell_type": "code",
   "execution_count": 161,
   "id": "7d0256f5",
   "metadata": {},
   "outputs": [
    {
     "data": {
      "text/plain": [
       "Age          0\n",
       "Sex          0\n",
       "ChestPain    0\n",
       "RestBP       0\n",
       "Chol         0\n",
       "Fbs          0\n",
       "RestECG      0\n",
       "MaxHR        0\n",
       "ExAng        0\n",
       "Oldpeak      0\n",
       "Slope        0\n",
       "Ca           0\n",
       "Thal         0\n",
       "AHD          0\n",
       "dtype: int64"
      ]
     },
     "execution_count": 161,
     "metadata": {},
     "output_type": "execute_result"
    }
   ],
   "source": [
    "heart.isna().sum()"
   ]
  },
  {
   "cell_type": "markdown",
   "id": "bb05c969",
   "metadata": {},
   "source": [
    "### mapping"
   ]
  },
  {
   "cell_type": "code",
   "execution_count": 162,
   "id": "4e3bf50e",
   "metadata": {},
   "outputs": [
    {
     "data": {
      "text/plain": [
       "array(['fixed', 'normal', 'reversable'], dtype=object)"
      ]
     },
     "execution_count": 162,
     "metadata": {},
     "output_type": "execute_result"
    }
   ],
   "source": [
    "heart.Thal.unique()"
   ]
  },
  {
   "cell_type": "code",
   "execution_count": 163,
   "id": "dafab250",
   "metadata": {},
   "outputs": [
    {
     "data": {
      "text/plain": [
       "array(['typical', 'asymptomatic', 'nonanginal', 'nontypical'],\n",
       "      dtype=object)"
      ]
     },
     "execution_count": 163,
     "metadata": {},
     "output_type": "execute_result"
    }
   ],
   "source": [
    "heart.ChestPain.unique()"
   ]
  },
  {
   "cell_type": "code",
   "execution_count": 164,
   "id": "83afd34b",
   "metadata": {},
   "outputs": [
    {
     "data": {
      "text/plain": [
       "array(['No', 'Yes'], dtype=object)"
      ]
     },
     "execution_count": 164,
     "metadata": {},
     "output_type": "execute_result"
    }
   ],
   "source": [
    "heart.AHD.unique()"
   ]
  },
  {
   "cell_type": "code",
   "execution_count": 165,
   "id": "d60f3dd0",
   "metadata": {},
   "outputs": [],
   "source": [
    "heart['AHD'] = heart.AHD.map({'No':0, 'Yes':1}) "
   ]
  },
  {
   "cell_type": "code",
   "execution_count": 166,
   "id": "d446463f",
   "metadata": {},
   "outputs": [],
   "source": [
    "heart['Thal'] = heart.Thal.map({'fixed':1, 'normal':2, 'reversable':3})"
   ]
  },
  {
   "cell_type": "code",
   "execution_count": 167,
   "id": "c592f220",
   "metadata": {},
   "outputs": [],
   "source": [
    "heart['ChestPain'] = heart.ChestPain.map({'typical':1, 'asymptomatic':2, 'nonanginal':3, 'nontypical':4})"
   ]
  },
  {
   "cell_type": "code",
   "execution_count": 168,
   "id": "cf09869e",
   "metadata": {},
   "outputs": [
    {
     "data": {
      "text/html": [
       "<div>\n",
       "<style scoped>\n",
       "    .dataframe tbody tr th:only-of-type {\n",
       "        vertical-align: middle;\n",
       "    }\n",
       "\n",
       "    .dataframe tbody tr th {\n",
       "        vertical-align: top;\n",
       "    }\n",
       "\n",
       "    .dataframe thead th {\n",
       "        text-align: right;\n",
       "    }\n",
       "</style>\n",
       "<table border=\"1\" class=\"dataframe\">\n",
       "  <thead>\n",
       "    <tr style=\"text-align: right;\">\n",
       "      <th></th>\n",
       "      <th>Age</th>\n",
       "      <th>Sex</th>\n",
       "      <th>ChestPain</th>\n",
       "      <th>RestBP</th>\n",
       "      <th>Chol</th>\n",
       "      <th>Fbs</th>\n",
       "      <th>RestECG</th>\n",
       "      <th>MaxHR</th>\n",
       "      <th>ExAng</th>\n",
       "      <th>Oldpeak</th>\n",
       "      <th>Slope</th>\n",
       "      <th>Ca</th>\n",
       "      <th>Thal</th>\n",
       "      <th>AHD</th>\n",
       "    </tr>\n",
       "  </thead>\n",
       "  <tbody>\n",
       "    <tr>\n",
       "      <th>0</th>\n",
       "      <td>63</td>\n",
       "      <td>1</td>\n",
       "      <td>1</td>\n",
       "      <td>145</td>\n",
       "      <td>233</td>\n",
       "      <td>1</td>\n",
       "      <td>2</td>\n",
       "      <td>150</td>\n",
       "      <td>0</td>\n",
       "      <td>2.3</td>\n",
       "      <td>3</td>\n",
       "      <td>0.0</td>\n",
       "      <td>1</td>\n",
       "      <td>0</td>\n",
       "    </tr>\n",
       "    <tr>\n",
       "      <th>1</th>\n",
       "      <td>67</td>\n",
       "      <td>1</td>\n",
       "      <td>2</td>\n",
       "      <td>160</td>\n",
       "      <td>286</td>\n",
       "      <td>0</td>\n",
       "      <td>2</td>\n",
       "      <td>108</td>\n",
       "      <td>1</td>\n",
       "      <td>1.5</td>\n",
       "      <td>2</td>\n",
       "      <td>3.0</td>\n",
       "      <td>2</td>\n",
       "      <td>1</td>\n",
       "    </tr>\n",
       "  </tbody>\n",
       "</table>\n",
       "</div>"
      ],
      "text/plain": [
       "   Age  Sex  ChestPain  RestBP  Chol  Fbs  RestECG  MaxHR  ExAng  Oldpeak  \\\n",
       "0   63    1          1     145   233    1        2    150      0      2.3   \n",
       "1   67    1          2     160   286    0        2    108      1      1.5   \n",
       "\n",
       "   Slope   Ca  Thal  AHD  \n",
       "0      3  0.0     1    0  \n",
       "1      2  3.0     2    1  "
      ]
     },
     "execution_count": 168,
     "metadata": {},
     "output_type": "execute_result"
    }
   ],
   "source": [
    "heart.head(2)"
   ]
  },
  {
   "cell_type": "markdown",
   "id": "9ecfc3c5",
   "metadata": {},
   "source": [
    "### scaling"
   ]
  },
  {
   "cell_type": "code",
   "execution_count": 169,
   "id": "c39f4a23",
   "metadata": {},
   "outputs": [],
   "source": [
    "heart[['Age','RestBP','Chol','MaxHR','Oldpeak']] = scale(heart[['Age','RestBP','Chol','MaxHR','Oldpeak']],with_mean=True, with_std=True)"
   ]
  },
  {
   "cell_type": "code",
   "execution_count": 170,
   "id": "88159333",
   "metadata": {},
   "outputs": [
    {
     "data": {
      "text/html": [
       "<div>\n",
       "<style scoped>\n",
       "    .dataframe tbody tr th:only-of-type {\n",
       "        vertical-align: middle;\n",
       "    }\n",
       "\n",
       "    .dataframe tbody tr th {\n",
       "        vertical-align: top;\n",
       "    }\n",
       "\n",
       "    .dataframe thead th {\n",
       "        text-align: right;\n",
       "    }\n",
       "</style>\n",
       "<table border=\"1\" class=\"dataframe\">\n",
       "  <thead>\n",
       "    <tr style=\"text-align: right;\">\n",
       "      <th></th>\n",
       "      <th>Age</th>\n",
       "      <th>Sex</th>\n",
       "      <th>ChestPain</th>\n",
       "      <th>RestBP</th>\n",
       "      <th>Chol</th>\n",
       "      <th>Fbs</th>\n",
       "      <th>RestECG</th>\n",
       "      <th>MaxHR</th>\n",
       "      <th>ExAng</th>\n",
       "      <th>Oldpeak</th>\n",
       "      <th>Slope</th>\n",
       "      <th>Ca</th>\n",
       "      <th>Thal</th>\n",
       "      <th>AHD</th>\n",
       "    </tr>\n",
       "  </thead>\n",
       "  <tbody>\n",
       "    <tr>\n",
       "      <th>0</th>\n",
       "      <td>0.948726</td>\n",
       "      <td>1</td>\n",
       "      <td>1</td>\n",
       "      <td>0.757525</td>\n",
       "      <td>-0.264900</td>\n",
       "      <td>1</td>\n",
       "      <td>2</td>\n",
       "      <td>0.017197</td>\n",
       "      <td>0</td>\n",
       "      <td>1.087338</td>\n",
       "      <td>3</td>\n",
       "      <td>0.0</td>\n",
       "      <td>1</td>\n",
       "      <td>0</td>\n",
       "    </tr>\n",
       "    <tr>\n",
       "      <th>1</th>\n",
       "      <td>1.392002</td>\n",
       "      <td>1</td>\n",
       "      <td>2</td>\n",
       "      <td>1.611220</td>\n",
       "      <td>0.760415</td>\n",
       "      <td>0</td>\n",
       "      <td>2</td>\n",
       "      <td>-1.821905</td>\n",
       "      <td>1</td>\n",
       "      <td>0.397182</td>\n",
       "      <td>2</td>\n",
       "      <td>3.0</td>\n",
       "      <td>2</td>\n",
       "      <td>1</td>\n",
       "    </tr>\n",
       "  </tbody>\n",
       "</table>\n",
       "</div>"
      ],
      "text/plain": [
       "        Age  Sex  ChestPain    RestBP      Chol  Fbs  RestECG     MaxHR  \\\n",
       "0  0.948726    1          1  0.757525 -0.264900    1        2  0.017197   \n",
       "1  1.392002    1          2  1.611220  0.760415    0        2 -1.821905   \n",
       "\n",
       "   ExAng   Oldpeak  Slope   Ca  Thal  AHD  \n",
       "0      0  1.087338      3  0.0     1    0  \n",
       "1      1  0.397182      2  3.0     2    1  "
      ]
     },
     "execution_count": 170,
     "metadata": {},
     "output_type": "execute_result"
    }
   ],
   "source": [
    "heart.head(2)"
   ]
  },
  {
   "cell_type": "markdown",
   "id": "2dde0c16",
   "metadata": {},
   "source": [
    "### check vif"
   ]
  },
  {
   "cell_type": "code",
   "execution_count": 171,
   "id": "0f8bf4ac",
   "metadata": {},
   "outputs": [
    {
     "name": "stdout",
     "output_type": "stream",
     "text": [
      "   feature       VIF\n",
      "0      Age  1.346502\n",
      "1   RestBP  1.131893\n",
      "2     Chol  1.059236\n",
      "3    MaxHR  1.323332\n",
      "4  Oldpeak  1.174930\n"
     ]
    }
   ],
   "source": [
    "x = add_constant(heart)\n",
    "x = heart[['Age','RestBP','Chol','MaxHR','Oldpeak']]\n",
    "vif_heart = pd.DataFrame()\n",
    "vif_heart['feature'] = x.columns\n",
    "vif_heart['VIF'] = [variance_inflation_factor(x.values,i) for i in range (len(x.columns))]\n",
    "print(vif_heart)"
   ]
  },
  {
   "cell_type": "markdown",
   "id": "923de161",
   "metadata": {},
   "source": [
    "### make model"
   ]
  },
  {
   "cell_type": "code",
   "execution_count": 172,
   "id": "49ce242b",
   "metadata": {},
   "outputs": [
    {
     "name": "stdout",
     "output_type": "stream",
     "text": [
      "Age+Sex+ChestPain+RestBP+Chol+Fbs+RestECG+MaxHR+ExAng+Oldpeak+Slope+Ca+Thal+AHD+"
     ]
    }
   ],
   "source": [
    "for i in heart.columns:\n",
    "    print(i, end='+')"
   ]
  },
  {
   "cell_type": "code",
   "execution_count": 173,
   "id": "c3f1d308",
   "metadata": {},
   "outputs": [
    {
     "name": "stdout",
     "output_type": "stream",
     "text": [
      "Optimization terminated successfully.\n",
      "         Current function value: 0.355488\n",
      "         Iterations 7\n"
     ]
    },
    {
     "data": {
      "text/html": [
       "<table class=\"simpletable\">\n",
       "<caption>Logit Regression Results</caption>\n",
       "<tr>\n",
       "  <th>Dep. Variable:</th>          <td>AHD</td>       <th>  No. Observations:  </th>  <td>   303</td>  \n",
       "</tr>\n",
       "<tr>\n",
       "  <th>Model:</th>                 <td>Logit</td>      <th>  Df Residuals:      </th>  <td>   287</td>  \n",
       "</tr>\n",
       "<tr>\n",
       "  <th>Method:</th>                 <td>MLE</td>       <th>  Df Model:          </th>  <td>    15</td>  \n",
       "</tr>\n",
       "<tr>\n",
       "  <th>Date:</th>            <td>Sat, 22 Apr 2023</td> <th>  Pseudo R-squ.:     </th>  <td>0.4846</td>  \n",
       "</tr>\n",
       "<tr>\n",
       "  <th>Time:</th>                <td>14:51:48</td>     <th>  Log-Likelihood:    </th> <td> -107.71</td> \n",
       "</tr>\n",
       "<tr>\n",
       "  <th>converged:</th>             <td>True</td>       <th>  LL-Null:           </th> <td> -208.99</td> \n",
       "</tr>\n",
       "<tr>\n",
       "  <th>Covariance Type:</th>     <td>nonrobust</td>    <th>  LLR p-value:       </th> <td>6.421e-35</td>\n",
       "</tr>\n",
       "</table>\n",
       "<table class=\"simpletable\">\n",
       "<tr>\n",
       "      <td></td>         <th>coef</th>     <th>std err</th>      <th>z</th>      <th>P>|z|</th>  <th>[0.025</th>    <th>0.975]</th>  \n",
       "</tr>\n",
       "<tr>\n",
       "  <th>Intercept</th> <td>   -5.6227</td> <td>    1.240</td> <td>   -4.535</td> <td> 0.000</td> <td>   -8.053</td> <td>   -3.193</td>\n",
       "</tr>\n",
       "<tr>\n",
       "  <th>Ca[T.1.0]</th> <td>    1.8650</td> <td>    0.455</td> <td>    4.096</td> <td> 0.000</td> <td>    0.973</td> <td>    2.757</td>\n",
       "</tr>\n",
       "<tr>\n",
       "  <th>Ca[T.2.0]</th> <td>    3.2530</td> <td>    0.675</td> <td>    4.820</td> <td> 0.000</td> <td>    1.930</td> <td>    4.576</td>\n",
       "</tr>\n",
       "<tr>\n",
       "  <th>Ca[T.3.0]</th> <td>    2.2859</td> <td>    0.805</td> <td>    2.839</td> <td> 0.005</td> <td>    0.708</td> <td>    3.864</td>\n",
       "</tr>\n",
       "<tr>\n",
       "  <th>Age</th>       <td>   -0.2711</td> <td>    0.211</td> <td>   -1.285</td> <td> 0.199</td> <td>   -0.684</td> <td>    0.142</td>\n",
       "</tr>\n",
       "<tr>\n",
       "  <th>Sex</th>       <td>    1.5593</td> <td>    0.447</td> <td>    3.491</td> <td> 0.000</td> <td>    0.684</td> <td>    2.435</td>\n",
       "</tr>\n",
       "<tr>\n",
       "  <th>ChestPain</th> <td>   -0.2028</td> <td>    0.213</td> <td>   -0.951</td> <td> 0.341</td> <td>   -0.621</td> <td>    0.215</td>\n",
       "</tr>\n",
       "<tr>\n",
       "  <th>RestBP</th>    <td>    0.3760</td> <td>    0.183</td> <td>    2.050</td> <td> 0.040</td> <td>    0.017</td> <td>    0.735</td>\n",
       "</tr>\n",
       "<tr>\n",
       "  <th>Chol</th>      <td>    0.3002</td> <td>    0.190</td> <td>    1.579</td> <td> 0.114</td> <td>   -0.072</td> <td>    0.673</td>\n",
       "</tr>\n",
       "<tr>\n",
       "  <th>Fbs</th>       <td>   -0.6879</td> <td>    0.488</td> <td>   -1.409</td> <td> 0.159</td> <td>   -1.645</td> <td>    0.269</td>\n",
       "</tr>\n",
       "<tr>\n",
       "  <th>RestECG</th>   <td>    0.1914</td> <td>    0.180</td> <td>    1.066</td> <td> 0.287</td> <td>   -0.161</td> <td>    0.543</td>\n",
       "</tr>\n",
       "<tr>\n",
       "  <th>MaxHR</th>     <td>   -0.7034</td> <td>    0.233</td> <td>   -3.019</td> <td> 0.003</td> <td>   -1.160</td> <td>   -0.247</td>\n",
       "</tr>\n",
       "<tr>\n",
       "  <th>ExAng</th>     <td>    1.3195</td> <td>    0.393</td> <td>    3.357</td> <td> 0.001</td> <td>    0.549</td> <td>    2.090</td>\n",
       "</tr>\n",
       "<tr>\n",
       "  <th>Oldpeak</th>   <td>    0.2285</td> <td>    0.243</td> <td>    0.939</td> <td> 0.348</td> <td>   -0.249</td> <td>    0.706</td>\n",
       "</tr>\n",
       "<tr>\n",
       "  <th>Slope</th>     <td>    0.7115</td> <td>    0.358</td> <td>    1.990</td> <td> 0.047</td> <td>    0.011</td> <td>    1.412</td>\n",
       "</tr>\n",
       "<tr>\n",
       "  <th>Thal</th>      <td>    0.9924</td> <td>    0.296</td> <td>    3.348</td> <td> 0.001</td> <td>    0.411</td> <td>    1.573</td>\n",
       "</tr>\n",
       "</table>"
      ],
      "text/plain": [
       "<class 'statsmodels.iolib.summary.Summary'>\n",
       "\"\"\"\n",
       "                           Logit Regression Results                           \n",
       "==============================================================================\n",
       "Dep. Variable:                    AHD   No. Observations:                  303\n",
       "Model:                          Logit   Df Residuals:                      287\n",
       "Method:                           MLE   Df Model:                           15\n",
       "Date:                Sat, 22 Apr 2023   Pseudo R-squ.:                  0.4846\n",
       "Time:                        14:51:48   Log-Likelihood:                -107.71\n",
       "converged:                       True   LL-Null:                       -208.99\n",
       "Covariance Type:            nonrobust   LLR p-value:                 6.421e-35\n",
       "==============================================================================\n",
       "                 coef    std err          z      P>|z|      [0.025      0.975]\n",
       "------------------------------------------------------------------------------\n",
       "Intercept     -5.6227      1.240     -4.535      0.000      -8.053      -3.193\n",
       "Ca[T.1.0]      1.8650      0.455      4.096      0.000       0.973       2.757\n",
       "Ca[T.2.0]      3.2530      0.675      4.820      0.000       1.930       4.576\n",
       "Ca[T.3.0]      2.2859      0.805      2.839      0.005       0.708       3.864\n",
       "Age           -0.2711      0.211     -1.285      0.199      -0.684       0.142\n",
       "Sex            1.5593      0.447      3.491      0.000       0.684       2.435\n",
       "ChestPain     -0.2028      0.213     -0.951      0.341      -0.621       0.215\n",
       "RestBP         0.3760      0.183      2.050      0.040       0.017       0.735\n",
       "Chol           0.3002      0.190      1.579      0.114      -0.072       0.673\n",
       "Fbs           -0.6879      0.488     -1.409      0.159      -1.645       0.269\n",
       "RestECG        0.1914      0.180      1.066      0.287      -0.161       0.543\n",
       "MaxHR         -0.7034      0.233     -3.019      0.003      -1.160      -0.247\n",
       "ExAng          1.3195      0.393      3.357      0.001       0.549       2.090\n",
       "Oldpeak        0.2285      0.243      0.939      0.348      -0.249       0.706\n",
       "Slope          0.7115      0.358      1.990      0.047       0.011       1.412\n",
       "Thal           0.9924      0.296      3.348      0.001       0.411       1.573\n",
       "==============================================================================\n",
       "\"\"\""
      ]
     },
     "execution_count": 173,
     "metadata": {},
     "output_type": "execute_result"
    }
   ],
   "source": [
    "fit = smf.logit('AHD~Age+Sex+ChestPain+RestBP+Chol+Fbs+RestECG+MaxHR+ExAng+Oldpeak+Slope+Ca+Thal', heart).fit()\n",
    "fit.summary()"
   ]
  },
  {
   "cell_type": "code",
   "execution_count": 174,
   "id": "50f6646f",
   "metadata": {},
   "outputs": [
    {
     "name": "stdout",
     "output_type": "stream",
     "text": [
      "Optimization terminated successfully.\n",
      "         Current function value: 0.373137\n",
      "         Iterations 7\n"
     ]
    },
    {
     "data": {
      "text/html": [
       "<table class=\"simpletable\">\n",
       "<caption>Logit Regression Results</caption>\n",
       "<tr>\n",
       "  <th>Dep. Variable:</th>          <td>AHD</td>       <th>  No. Observations:  </th>  <td>   303</td>  \n",
       "</tr>\n",
       "<tr>\n",
       "  <th>Model:</th>                 <td>Logit</td>      <th>  Df Residuals:      </th>  <td>   293</td>  \n",
       "</tr>\n",
       "<tr>\n",
       "  <th>Method:</th>                 <td>MLE</td>       <th>  Df Model:          </th>  <td>     9</td>  \n",
       "</tr>\n",
       "<tr>\n",
       "  <th>Date:</th>            <td>Sat, 22 Apr 2023</td> <th>  Pseudo R-squ.:     </th>  <td>0.4590</td>  \n",
       "</tr>\n",
       "<tr>\n",
       "  <th>Time:</th>                <td>14:51:49</td>     <th>  Log-Likelihood:    </th> <td> -113.06</td> \n",
       "</tr>\n",
       "<tr>\n",
       "  <th>converged:</th>             <td>True</td>       <th>  LL-Null:           </th> <td> -208.99</td> \n",
       "</tr>\n",
       "<tr>\n",
       "  <th>Covariance Type:</th>     <td>nonrobust</td>    <th>  LLR p-value:       </th> <td>1.679e-36</td>\n",
       "</tr>\n",
       "</table>\n",
       "<table class=\"simpletable\">\n",
       "<tr>\n",
       "      <td></td>         <th>coef</th>     <th>std err</th>      <th>z</th>      <th>P>|z|</th>  <th>[0.025</th>    <th>0.975]</th>  \n",
       "</tr>\n",
       "<tr>\n",
       "  <th>Intercept</th> <td>   -6.4576</td> <td>    0.930</td> <td>   -6.945</td> <td> 0.000</td> <td>   -8.280</td> <td>   -4.635</td>\n",
       "</tr>\n",
       "<tr>\n",
       "  <th>Ca[T.1.0]</th> <td>    1.6902</td> <td>    0.424</td> <td>    3.985</td> <td> 0.000</td> <td>    0.859</td> <td>    2.521</td>\n",
       "</tr>\n",
       "<tr>\n",
       "  <th>Ca[T.2.0]</th> <td>    3.0998</td> <td>    0.581</td> <td>    5.338</td> <td> 0.000</td> <td>    1.962</td> <td>    4.238</td>\n",
       "</tr>\n",
       "<tr>\n",
       "  <th>Ca[T.3.0]</th> <td>    2.2357</td> <td>    0.735</td> <td>    3.042</td> <td> 0.002</td> <td>    0.795</td> <td>    3.676</td>\n",
       "</tr>\n",
       "<tr>\n",
       "  <th>Sex</th>       <td>    1.4605</td> <td>    0.399</td> <td>    3.662</td> <td> 0.000</td> <td>    0.679</td> <td>    2.242</td>\n",
       "</tr>\n",
       "<tr>\n",
       "  <th>RestBP</th>    <td>    0.3458</td> <td>    0.167</td> <td>    2.068</td> <td> 0.039</td> <td>    0.018</td> <td>    0.674</td>\n",
       "</tr>\n",
       "<tr>\n",
       "  <th>MaxHR</th>     <td>   -0.6439</td> <td>    0.204</td> <td>   -3.154</td> <td> 0.002</td> <td>   -1.044</td> <td>   -0.244</td>\n",
       "</tr>\n",
       "<tr>\n",
       "  <th>ExAng</th>     <td>    1.4343</td> <td>    0.376</td> <td>    3.814</td> <td> 0.000</td> <td>    0.697</td> <td>    2.171</td>\n",
       "</tr>\n",
       "<tr>\n",
       "  <th>Slope</th>     <td>    0.8861</td> <td>    0.281</td> <td>    3.156</td> <td> 0.002</td> <td>    0.336</td> <td>    1.436</td>\n",
       "</tr>\n",
       "<tr>\n",
       "  <th>Thal</th>      <td>    1.0702</td> <td>    0.283</td> <td>    3.776</td> <td> 0.000</td> <td>    0.515</td> <td>    1.626</td>\n",
       "</tr>\n",
       "</table>"
      ],
      "text/plain": [
       "<class 'statsmodels.iolib.summary.Summary'>\n",
       "\"\"\"\n",
       "                           Logit Regression Results                           \n",
       "==============================================================================\n",
       "Dep. Variable:                    AHD   No. Observations:                  303\n",
       "Model:                          Logit   Df Residuals:                      293\n",
       "Method:                           MLE   Df Model:                            9\n",
       "Date:                Sat, 22 Apr 2023   Pseudo R-squ.:                  0.4590\n",
       "Time:                        14:51:49   Log-Likelihood:                -113.06\n",
       "converged:                       True   LL-Null:                       -208.99\n",
       "Covariance Type:            nonrobust   LLR p-value:                 1.679e-36\n",
       "==============================================================================\n",
       "                 coef    std err          z      P>|z|      [0.025      0.975]\n",
       "------------------------------------------------------------------------------\n",
       "Intercept     -6.4576      0.930     -6.945      0.000      -8.280      -4.635\n",
       "Ca[T.1.0]      1.6902      0.424      3.985      0.000       0.859       2.521\n",
       "Ca[T.2.0]      3.0998      0.581      5.338      0.000       1.962       4.238\n",
       "Ca[T.3.0]      2.2357      0.735      3.042      0.002       0.795       3.676\n",
       "Sex            1.4605      0.399      3.662      0.000       0.679       2.242\n",
       "RestBP         0.3458      0.167      2.068      0.039       0.018       0.674\n",
       "MaxHR         -0.6439      0.204     -3.154      0.002      -1.044      -0.244\n",
       "ExAng          1.4343      0.376      3.814      0.000       0.697       2.171\n",
       "Slope          0.8861      0.281      3.156      0.002       0.336       1.436\n",
       "Thal           1.0702      0.283      3.776      0.000       0.515       1.626\n",
       "==============================================================================\n",
       "\"\"\""
      ]
     },
     "execution_count": 174,
     "metadata": {},
     "output_type": "execute_result"
    }
   ],
   "source": [
    "fit1 = smf.logit('AHD~Sex+RestBP+MaxHR+ExAng+Slope+Ca+Thal', heart).fit()\n",
    "fit1.summary()"
   ]
  },
  {
   "cell_type": "code",
   "execution_count": 175,
   "id": "55d02a00",
   "metadata": {},
   "outputs": [
    {
     "data": {
      "text/html": [
       "<div>\n",
       "<style scoped>\n",
       "    .dataframe tbody tr th:only-of-type {\n",
       "        vertical-align: middle;\n",
       "    }\n",
       "\n",
       "    .dataframe tbody tr th {\n",
       "        vertical-align: top;\n",
       "    }\n",
       "\n",
       "    .dataframe thead th {\n",
       "        text-align: right;\n",
       "    }\n",
       "</style>\n",
       "<table border=\"1\" class=\"dataframe\">\n",
       "  <thead>\n",
       "    <tr style=\"text-align: right;\">\n",
       "      <th></th>\n",
       "      <th>Age</th>\n",
       "      <th>Sex</th>\n",
       "      <th>ChestPain</th>\n",
       "      <th>RestBP</th>\n",
       "      <th>Chol</th>\n",
       "      <th>Fbs</th>\n",
       "      <th>RestECG</th>\n",
       "      <th>MaxHR</th>\n",
       "      <th>ExAng</th>\n",
       "      <th>Oldpeak</th>\n",
       "      <th>Slope</th>\n",
       "      <th>Ca</th>\n",
       "      <th>Thal</th>\n",
       "      <th>AHD</th>\n",
       "    </tr>\n",
       "  </thead>\n",
       "  <tbody>\n",
       "    <tr>\n",
       "      <th>0</th>\n",
       "      <td>0.948726</td>\n",
       "      <td>1</td>\n",
       "      <td>1</td>\n",
       "      <td>0.757525</td>\n",
       "      <td>-0.264900</td>\n",
       "      <td>1</td>\n",
       "      <td>2</td>\n",
       "      <td>0.017197</td>\n",
       "      <td>0</td>\n",
       "      <td>1.087338</td>\n",
       "      <td>3</td>\n",
       "      <td>0.0</td>\n",
       "      <td>1</td>\n",
       "      <td>0</td>\n",
       "    </tr>\n",
       "    <tr>\n",
       "      <th>1</th>\n",
       "      <td>1.392002</td>\n",
       "      <td>1</td>\n",
       "      <td>2</td>\n",
       "      <td>1.611220</td>\n",
       "      <td>0.760415</td>\n",
       "      <td>0</td>\n",
       "      <td>2</td>\n",
       "      <td>-1.821905</td>\n",
       "      <td>1</td>\n",
       "      <td>0.397182</td>\n",
       "      <td>2</td>\n",
       "      <td>3.0</td>\n",
       "      <td>2</td>\n",
       "      <td>1</td>\n",
       "    </tr>\n",
       "    <tr>\n",
       "      <th>2</th>\n",
       "      <td>1.392002</td>\n",
       "      <td>1</td>\n",
       "      <td>2</td>\n",
       "      <td>-0.665300</td>\n",
       "      <td>-0.342283</td>\n",
       "      <td>0</td>\n",
       "      <td>2</td>\n",
       "      <td>-0.902354</td>\n",
       "      <td>1</td>\n",
       "      <td>1.346147</td>\n",
       "      <td>2</td>\n",
       "      <td>2.0</td>\n",
       "      <td>3</td>\n",
       "      <td>1</td>\n",
       "    </tr>\n",
       "    <tr>\n",
       "      <th>3</th>\n",
       "      <td>-1.932564</td>\n",
       "      <td>1</td>\n",
       "      <td>3</td>\n",
       "      <td>-0.096170</td>\n",
       "      <td>0.063974</td>\n",
       "      <td>0</td>\n",
       "      <td>0</td>\n",
       "      <td>1.637359</td>\n",
       "      <td>0</td>\n",
       "      <td>2.122573</td>\n",
       "      <td>3</td>\n",
       "      <td>0.0</td>\n",
       "      <td>2</td>\n",
       "      <td>0</td>\n",
       "    </tr>\n",
       "    <tr>\n",
       "      <th>4</th>\n",
       "      <td>-1.489288</td>\n",
       "      <td>0</td>\n",
       "      <td>4</td>\n",
       "      <td>-0.096170</td>\n",
       "      <td>-0.825922</td>\n",
       "      <td>0</td>\n",
       "      <td>2</td>\n",
       "      <td>0.980537</td>\n",
       "      <td>0</td>\n",
       "      <td>0.310912</td>\n",
       "      <td>1</td>\n",
       "      <td>0.0</td>\n",
       "      <td>2</td>\n",
       "      <td>0</td>\n",
       "    </tr>\n",
       "    <tr>\n",
       "      <th>...</th>\n",
       "      <td>...</td>\n",
       "      <td>...</td>\n",
       "      <td>...</td>\n",
       "      <td>...</td>\n",
       "      <td>...</td>\n",
       "      <td>...</td>\n",
       "      <td>...</td>\n",
       "      <td>...</td>\n",
       "      <td>...</td>\n",
       "      <td>...</td>\n",
       "      <td>...</td>\n",
       "      <td>...</td>\n",
       "      <td>...</td>\n",
       "      <td>...</td>\n",
       "    </tr>\n",
       "    <tr>\n",
       "      <th>298</th>\n",
       "      <td>-1.046013</td>\n",
       "      <td>1</td>\n",
       "      <td>1</td>\n",
       "      <td>-1.234430</td>\n",
       "      <td>0.334813</td>\n",
       "      <td>0</td>\n",
       "      <td>0</td>\n",
       "      <td>-0.770990</td>\n",
       "      <td>0</td>\n",
       "      <td>0.138373</td>\n",
       "      <td>2</td>\n",
       "      <td>0.0</td>\n",
       "      <td>3</td>\n",
       "      <td>1</td>\n",
       "    </tr>\n",
       "    <tr>\n",
       "      <th>299</th>\n",
       "      <td>1.502821</td>\n",
       "      <td>1</td>\n",
       "      <td>2</td>\n",
       "      <td>0.700612</td>\n",
       "      <td>-1.038723</td>\n",
       "      <td>1</td>\n",
       "      <td>0</td>\n",
       "      <td>-0.376896</td>\n",
       "      <td>0</td>\n",
       "      <td>2.036303</td>\n",
       "      <td>2</td>\n",
       "      <td>2.0</td>\n",
       "      <td>3</td>\n",
       "      <td>1</td>\n",
       "    </tr>\n",
       "    <tr>\n",
       "      <th>300</th>\n",
       "      <td>0.283813</td>\n",
       "      <td>1</td>\n",
       "      <td>2</td>\n",
       "      <td>-0.096170</td>\n",
       "      <td>-2.238149</td>\n",
       "      <td>0</td>\n",
       "      <td>0</td>\n",
       "      <td>-1.515388</td>\n",
       "      <td>1</td>\n",
       "      <td>0.138373</td>\n",
       "      <td>2</td>\n",
       "      <td>1.0</td>\n",
       "      <td>3</td>\n",
       "      <td>1</td>\n",
       "    </tr>\n",
       "    <tr>\n",
       "      <th>301</th>\n",
       "      <td>0.283813</td>\n",
       "      <td>0</td>\n",
       "      <td>4</td>\n",
       "      <td>-0.096170</td>\n",
       "      <td>-0.206864</td>\n",
       "      <td>0</td>\n",
       "      <td>2</td>\n",
       "      <td>1.068113</td>\n",
       "      <td>0</td>\n",
       "      <td>-0.896862</td>\n",
       "      <td>2</td>\n",
       "      <td>1.0</td>\n",
       "      <td>2</td>\n",
       "      <td>1</td>\n",
       "    </tr>\n",
       "    <tr>\n",
       "      <th>302</th>\n",
       "      <td>-1.821745</td>\n",
       "      <td>1</td>\n",
       "      <td>3</td>\n",
       "      <td>0.359134</td>\n",
       "      <td>-1.386944</td>\n",
       "      <td>0</td>\n",
       "      <td>0</td>\n",
       "      <td>1.024325</td>\n",
       "      <td>0</td>\n",
       "      <td>-0.896862</td>\n",
       "      <td>1</td>\n",
       "      <td>0.0</td>\n",
       "      <td>2</td>\n",
       "      <td>0</td>\n",
       "    </tr>\n",
       "  </tbody>\n",
       "</table>\n",
       "<p>303 rows × 14 columns</p>\n",
       "</div>"
      ],
      "text/plain": [
       "          Age  Sex  ChestPain    RestBP      Chol  Fbs  RestECG     MaxHR  \\\n",
       "0    0.948726    1          1  0.757525 -0.264900    1        2  0.017197   \n",
       "1    1.392002    1          2  1.611220  0.760415    0        2 -1.821905   \n",
       "2    1.392002    1          2 -0.665300 -0.342283    0        2 -0.902354   \n",
       "3   -1.932564    1          3 -0.096170  0.063974    0        0  1.637359   \n",
       "4   -1.489288    0          4 -0.096170 -0.825922    0        2  0.980537   \n",
       "..        ...  ...        ...       ...       ...  ...      ...       ...   \n",
       "298 -1.046013    1          1 -1.234430  0.334813    0        0 -0.770990   \n",
       "299  1.502821    1          2  0.700612 -1.038723    1        0 -0.376896   \n",
       "300  0.283813    1          2 -0.096170 -2.238149    0        0 -1.515388   \n",
       "301  0.283813    0          4 -0.096170 -0.206864    0        2  1.068113   \n",
       "302 -1.821745    1          3  0.359134 -1.386944    0        0  1.024325   \n",
       "\n",
       "     ExAng   Oldpeak  Slope   Ca  Thal  AHD  \n",
       "0        0  1.087338      3  0.0     1    0  \n",
       "1        1  0.397182      2  3.0     2    1  \n",
       "2        1  1.346147      2  2.0     3    1  \n",
       "3        0  2.122573      3  0.0     2    0  \n",
       "4        0  0.310912      1  0.0     2    0  \n",
       "..     ...       ...    ...  ...   ...  ...  \n",
       "298      0  0.138373      2  0.0     3    1  \n",
       "299      0  2.036303      2  2.0     3    1  \n",
       "300      1  0.138373      2  1.0     3    1  \n",
       "301      0 -0.896862      2  1.0     2    1  \n",
       "302      0 -0.896862      1  0.0     2    0  \n",
       "\n",
       "[303 rows x 14 columns]"
      ]
     },
     "execution_count": 175,
     "metadata": {},
     "output_type": "execute_result"
    }
   ],
   "source": [
    "heart"
   ]
  },
  {
   "cell_type": "code",
   "execution_count": 176,
   "id": "c9319369",
   "metadata": {},
   "outputs": [
    {
     "name": "stderr",
     "output_type": "stream",
     "text": [
      "C:\\Users\\Khusshi Dedhiaa\\AppData\\Local\\Temp\\ipykernel_54408\\1685931590.py:1: FutureWarning: In a future version, the Index constructor will not infer numeric dtypes when passed object-dtype sequences (matching Series behavior)\n",
      "  heart = pd.get_dummies(heart, columns=['Sex','ExAng','Slope','Ca','Thal'])\n"
     ]
    }
   ],
   "source": [
    "heart = pd.get_dummies(heart, columns=['Sex','ExAng','Slope','Ca','Thal'])"
   ]
  },
  {
   "cell_type": "code",
   "execution_count": 177,
   "id": "70b7b0d4",
   "metadata": {},
   "outputs": [
    {
     "data": {
      "text/html": [
       "<div>\n",
       "<style scoped>\n",
       "    .dataframe tbody tr th:only-of-type {\n",
       "        vertical-align: middle;\n",
       "    }\n",
       "\n",
       "    .dataframe tbody tr th {\n",
       "        vertical-align: top;\n",
       "    }\n",
       "\n",
       "    .dataframe thead th {\n",
       "        text-align: right;\n",
       "    }\n",
       "</style>\n",
       "<table border=\"1\" class=\"dataframe\">\n",
       "  <thead>\n",
       "    <tr style=\"text-align: right;\">\n",
       "      <th></th>\n",
       "      <th>Age</th>\n",
       "      <th>ChestPain</th>\n",
       "      <th>RestBP</th>\n",
       "      <th>Chol</th>\n",
       "      <th>Fbs</th>\n",
       "      <th>RestECG</th>\n",
       "      <th>MaxHR</th>\n",
       "      <th>Oldpeak</th>\n",
       "      <th>AHD</th>\n",
       "      <th>Sex_0</th>\n",
       "      <th>...</th>\n",
       "      <th>Slope_1</th>\n",
       "      <th>Slope_2</th>\n",
       "      <th>Slope_3</th>\n",
       "      <th>Ca_0.0</th>\n",
       "      <th>Ca_1.0</th>\n",
       "      <th>Ca_2.0</th>\n",
       "      <th>Ca_3.0</th>\n",
       "      <th>Thal_1</th>\n",
       "      <th>Thal_2</th>\n",
       "      <th>Thal_3</th>\n",
       "    </tr>\n",
       "  </thead>\n",
       "  <tbody>\n",
       "    <tr>\n",
       "      <th>0</th>\n",
       "      <td>0.948726</td>\n",
       "      <td>1</td>\n",
       "      <td>0.757525</td>\n",
       "      <td>-0.264900</td>\n",
       "      <td>1</td>\n",
       "      <td>2</td>\n",
       "      <td>0.017197</td>\n",
       "      <td>1.087338</td>\n",
       "      <td>0</td>\n",
       "      <td>0</td>\n",
       "      <td>...</td>\n",
       "      <td>0</td>\n",
       "      <td>0</td>\n",
       "      <td>1</td>\n",
       "      <td>1</td>\n",
       "      <td>0</td>\n",
       "      <td>0</td>\n",
       "      <td>0</td>\n",
       "      <td>1</td>\n",
       "      <td>0</td>\n",
       "      <td>0</td>\n",
       "    </tr>\n",
       "    <tr>\n",
       "      <th>1</th>\n",
       "      <td>1.392002</td>\n",
       "      <td>2</td>\n",
       "      <td>1.611220</td>\n",
       "      <td>0.760415</td>\n",
       "      <td>0</td>\n",
       "      <td>2</td>\n",
       "      <td>-1.821905</td>\n",
       "      <td>0.397182</td>\n",
       "      <td>1</td>\n",
       "      <td>0</td>\n",
       "      <td>...</td>\n",
       "      <td>0</td>\n",
       "      <td>1</td>\n",
       "      <td>0</td>\n",
       "      <td>0</td>\n",
       "      <td>0</td>\n",
       "      <td>0</td>\n",
       "      <td>1</td>\n",
       "      <td>0</td>\n",
       "      <td>1</td>\n",
       "      <td>0</td>\n",
       "    </tr>\n",
       "  </tbody>\n",
       "</table>\n",
       "<p>2 rows × 23 columns</p>\n",
       "</div>"
      ],
      "text/plain": [
       "        Age  ChestPain    RestBP      Chol  Fbs  RestECG     MaxHR   Oldpeak  \\\n",
       "0  0.948726          1  0.757525 -0.264900    1        2  0.017197  1.087338   \n",
       "1  1.392002          2  1.611220  0.760415    0        2 -1.821905  0.397182   \n",
       "\n",
       "   AHD  Sex_0  ...  Slope_1  Slope_2  Slope_3  Ca_0.0  Ca_1.0  Ca_2.0  Ca_3.0  \\\n",
       "0    0      0  ...        0        0        1       1       0       0       0   \n",
       "1    1      0  ...        0        1        0       0       0       0       1   \n",
       "\n",
       "   Thal_1  Thal_2  Thal_3  \n",
       "0       1       0       0  \n",
       "1       0       1       0  \n",
       "\n",
       "[2 rows x 23 columns]"
      ]
     },
     "execution_count": 177,
     "metadata": {},
     "output_type": "execute_result"
    }
   ],
   "source": [
    "heart.head(2)"
   ]
  },
  {
   "cell_type": "code",
   "execution_count": 178,
   "id": "99156c26",
   "metadata": {},
   "outputs": [
    {
     "data": {
      "text/plain": [
       "Index(['Age', 'ChestPain', 'RestBP', 'Chol', 'Fbs', 'RestECG', 'MaxHR',\n",
       "       'Oldpeak', 'AHD', 'Sex_0', 'Sex_1', 'ExAng_0', 'ExAng_1', 'Slope_1',\n",
       "       'Slope_2', 'Slope_3', 'Ca_0.0', 'Ca_1.0', 'Ca_2.0', 'Ca_3.0', 'Thal_1',\n",
       "       'Thal_2', 'Thal_3'],\n",
       "      dtype='object')"
      ]
     },
     "execution_count": 178,
     "metadata": {},
     "output_type": "execute_result"
    }
   ],
   "source": [
    "heart.columns"
   ]
  },
  {
   "cell_type": "markdown",
   "id": "9e3bdffb",
   "metadata": {},
   "source": [
    "### confusion matrix"
   ]
  },
  {
   "cell_type": "code",
   "execution_count": 179,
   "id": "622d095a",
   "metadata": {},
   "outputs": [],
   "source": [
    "actual = heart.AHD\n",
    "x = heart2[['Sex','RestBP','MaxHR','ExAng','Slope','Ca','Thal']]\n",
    "predicted = round(fit1.predict(x))\n",
    "confusion_matrix = metrics.confusion_matrix(actual,predicted)"
   ]
  },
  {
   "cell_type": "code",
   "execution_count": 180,
   "id": "b6f314a4",
   "metadata": {},
   "outputs": [
    {
     "data": {
      "text/plain": [
       "array([[143,  21],\n",
       "       [ 27, 112]], dtype=int64)"
      ]
     },
     "execution_count": 180,
     "metadata": {},
     "output_type": "execute_result"
    }
   ],
   "source": [
    "confusion_matrix"
   ]
  },
  {
   "cell_type": "markdown",
   "id": "9d80ffb5",
   "metadata": {},
   "source": [
    "#### confusion matrix = [TP   FP],\n",
    "#### .................................[FN   TN]"
   ]
  },
  {
   "cell_type": "markdown",
   "id": "7e14c3ba",
   "metadata": {},
   "source": [
    "#### accuracy = (TP + TN) / total"
   ]
  },
  {
   "cell_type": "code",
   "execution_count": 181,
   "id": "a22b7ea1",
   "metadata": {},
   "outputs": [
    {
     "data": {
      "text/plain": [
       "303"
      ]
     },
     "execution_count": 181,
     "metadata": {},
     "output_type": "execute_result"
    }
   ],
   "source": [
    "#total \n",
    "len(heart2)"
   ]
  },
  {
   "cell_type": "code",
   "execution_count": 182,
   "id": "eda1003a",
   "metadata": {},
   "outputs": [
    {
     "data": {
      "text/plain": [
       "0.8415841584158416"
      ]
     },
     "execution_count": 182,
     "metadata": {},
     "output_type": "execute_result"
    }
   ],
   "source": [
    "accuracy = (143+112)/303\n",
    "accuracy"
   ]
  },
  {
   "cell_type": "code",
   "execution_count": 183,
   "id": "4d5d7b17",
   "metadata": {},
   "outputs": [],
   "source": [
    "Y = heart.AHD\n",
    "X = heart2[['Sex','RestBP','MaxHR','ExAng','Slope','Ca','Thal']]"
   ]
  },
  {
   "cell_type": "code",
   "execution_count": 184,
   "id": "febbf5cb",
   "metadata": {},
   "outputs": [],
   "source": [
    "x_train,x_test,y_train,y_test = train_test_split(X,Y,test_size=0.2,random_state=1)"
   ]
  },
  {
   "cell_type": "code",
   "execution_count": 185,
   "id": "2aff8540",
   "metadata": {},
   "outputs": [
    {
     "data": {
      "text/plain": [
       "204    0\n",
       "159    0\n",
       "219    0\n",
       "174    1\n",
       "184    1\n",
       "      ..\n",
       "0      0\n",
       "288    0\n",
       "259    1\n",
       "179    0\n",
       "110    1\n",
       "Name: AHD, Length: 61, dtype: int64"
      ]
     },
     "execution_count": 185,
     "metadata": {},
     "output_type": "execute_result"
    }
   ],
   "source": [
    "y_test"
   ]
  },
  {
   "cell_type": "code",
   "execution_count": 186,
   "id": "af50e28e",
   "metadata": {},
   "outputs": [
    {
     "data": {
      "text/html": [
       "<style>#sk-container-id-3 {color: black;background-color: white;}#sk-container-id-3 pre{padding: 0;}#sk-container-id-3 div.sk-toggleable {background-color: white;}#sk-container-id-3 label.sk-toggleable__label {cursor: pointer;display: block;width: 100%;margin-bottom: 0;padding: 0.3em;box-sizing: border-box;text-align: center;}#sk-container-id-3 label.sk-toggleable__label-arrow:before {content: \"▸\";float: left;margin-right: 0.25em;color: #696969;}#sk-container-id-3 label.sk-toggleable__label-arrow:hover:before {color: black;}#sk-container-id-3 div.sk-estimator:hover label.sk-toggleable__label-arrow:before {color: black;}#sk-container-id-3 div.sk-toggleable__content {max-height: 0;max-width: 0;overflow: hidden;text-align: left;background-color: #f0f8ff;}#sk-container-id-3 div.sk-toggleable__content pre {margin: 0.2em;color: black;border-radius: 0.25em;background-color: #f0f8ff;}#sk-container-id-3 input.sk-toggleable__control:checked~div.sk-toggleable__content {max-height: 200px;max-width: 100%;overflow: auto;}#sk-container-id-3 input.sk-toggleable__control:checked~label.sk-toggleable__label-arrow:before {content: \"▾\";}#sk-container-id-3 div.sk-estimator input.sk-toggleable__control:checked~label.sk-toggleable__label {background-color: #d4ebff;}#sk-container-id-3 div.sk-label input.sk-toggleable__control:checked~label.sk-toggleable__label {background-color: #d4ebff;}#sk-container-id-3 input.sk-hidden--visually {border: 0;clip: rect(1px 1px 1px 1px);clip: rect(1px, 1px, 1px, 1px);height: 1px;margin: -1px;overflow: hidden;padding: 0;position: absolute;width: 1px;}#sk-container-id-3 div.sk-estimator {font-family: monospace;background-color: #f0f8ff;border: 1px dotted black;border-radius: 0.25em;box-sizing: border-box;margin-bottom: 0.5em;}#sk-container-id-3 div.sk-estimator:hover {background-color: #d4ebff;}#sk-container-id-3 div.sk-parallel-item::after {content: \"\";width: 100%;border-bottom: 1px solid gray;flex-grow: 1;}#sk-container-id-3 div.sk-label:hover label.sk-toggleable__label {background-color: #d4ebff;}#sk-container-id-3 div.sk-serial::before {content: \"\";position: absolute;border-left: 1px solid gray;box-sizing: border-box;top: 0;bottom: 0;left: 50%;z-index: 0;}#sk-container-id-3 div.sk-serial {display: flex;flex-direction: column;align-items: center;background-color: white;padding-right: 0.2em;padding-left: 0.2em;position: relative;}#sk-container-id-3 div.sk-item {position: relative;z-index: 1;}#sk-container-id-3 div.sk-parallel {display: flex;align-items: stretch;justify-content: center;background-color: white;position: relative;}#sk-container-id-3 div.sk-item::before, #sk-container-id-3 div.sk-parallel-item::before {content: \"\";position: absolute;border-left: 1px solid gray;box-sizing: border-box;top: 0;bottom: 0;left: 50%;z-index: -1;}#sk-container-id-3 div.sk-parallel-item {display: flex;flex-direction: column;z-index: 1;position: relative;background-color: white;}#sk-container-id-3 div.sk-parallel-item:first-child::after {align-self: flex-end;width: 50%;}#sk-container-id-3 div.sk-parallel-item:last-child::after {align-self: flex-start;width: 50%;}#sk-container-id-3 div.sk-parallel-item:only-child::after {width: 0;}#sk-container-id-3 div.sk-dashed-wrapped {border: 1px dashed gray;margin: 0 0.4em 0.5em 0.4em;box-sizing: border-box;padding-bottom: 0.4em;background-color: white;}#sk-container-id-3 div.sk-label label {font-family: monospace;font-weight: bold;display: inline-block;line-height: 1.2em;}#sk-container-id-3 div.sk-label-container {text-align: center;}#sk-container-id-3 div.sk-container {/* jupyter's `normalize.less` sets `[hidden] { display: none; }` but bootstrap.min.css set `[hidden] { display: none !important; }` so we also need the `!important` here to be able to override the default hidden behavior on the sphinx rendered scikit-learn.org. See: https://github.com/scikit-learn/scikit-learn/issues/21755 */display: inline-block !important;position: relative;}#sk-container-id-3 div.sk-text-repr-fallback {display: none;}</style><div id=\"sk-container-id-3\" class=\"sk-top-container\"><div class=\"sk-text-repr-fallback\"><pre>LogisticRegression()</pre><b>In a Jupyter environment, please rerun this cell to show the HTML representation or trust the notebook. <br />On GitHub, the HTML representation is unable to render, please try loading this page with nbviewer.org.</b></div><div class=\"sk-container\" hidden><div class=\"sk-item\"><div class=\"sk-estimator sk-toggleable\"><input class=\"sk-toggleable__control sk-hidden--visually\" id=\"sk-estimator-id-3\" type=\"checkbox\" checked><label for=\"sk-estimator-id-3\" class=\"sk-toggleable__label sk-toggleable__label-arrow\">LogisticRegression</label><div class=\"sk-toggleable__content\"><pre>LogisticRegression()</pre></div></div></div></div></div>"
      ],
      "text/plain": [
       "LogisticRegression()"
      ]
     },
     "execution_count": 186,
     "metadata": {},
     "output_type": "execute_result"
    }
   ],
   "source": [
    "lreg_model = lm.LogisticRegression()\n",
    "lreg_model.fit(x_train,y_train)"
   ]
  },
  {
   "cell_type": "code",
   "execution_count": 187,
   "id": "d8490ff4",
   "metadata": {},
   "outputs": [],
   "source": [
    "actual1 = y_test\n",
    "predicted1 = round(fit1.predict(x_test))\n",
    "confusion_matrix1 = metrics.confusion_matrix(actual1,predicted1)"
   ]
  },
  {
   "cell_type": "code",
   "execution_count": 188,
   "id": "2422aa34",
   "metadata": {},
   "outputs": [
    {
     "data": {
      "text/plain": [
       "array([[29,  5],\n",
       "       [ 6, 21]], dtype=int64)"
      ]
     },
     "execution_count": 188,
     "metadata": {},
     "output_type": "execute_result"
    }
   ],
   "source": [
    "confusion_matrix1"
   ]
  },
  {
   "cell_type": "code",
   "execution_count": 189,
   "id": "927d83f6",
   "metadata": {},
   "outputs": [
    {
     "data": {
      "text/plain": [
       "61"
      ]
     },
     "execution_count": 189,
     "metadata": {},
     "output_type": "execute_result"
    }
   ],
   "source": [
    "len(y_test)"
   ]
  },
  {
   "cell_type": "code",
   "execution_count": 190,
   "id": "97f7ff72",
   "metadata": {},
   "outputs": [
    {
     "data": {
      "text/plain": [
       "0.819672131147541"
      ]
     },
     "execution_count": 190,
     "metadata": {},
     "output_type": "execute_result"
    }
   ],
   "source": [
    "accuracy1 = (29+21)/61\n",
    "accuracy1"
   ]
  },
  {
   "cell_type": "code",
   "execution_count": 191,
   "id": "9d0da1f5",
   "metadata": {},
   "outputs": [
    {
     "name": "stdout",
     "output_type": "stream",
     "text": [
      "0.8316129032258065\n"
     ]
    }
   ],
   "source": [
    "kfold = KFold(n_splits=10)          \n",
    "test = cross_val_score(lreg_model,X,Y,cv = kfold, scoring='accuracy', n_jobs=-1)    #this accuracy is not same as above accuracy\n",
    "print(np.mean(test))"
   ]
  }
 ],
 "metadata": {
  "kernelspec": {
   "display_name": "Python 3 (ipykernel)",
   "language": "python",
   "name": "python3"
  },
  "language_info": {
   "codemirror_mode": {
    "name": "ipython",
    "version": 3
   },
   "file_extension": ".py",
   "mimetype": "text/x-python",
   "name": "python",
   "nbconvert_exporter": "python",
   "pygments_lexer": "ipython3",
   "version": "3.10.9"
  }
 },
 "nbformat": 4,
 "nbformat_minor": 5
}
